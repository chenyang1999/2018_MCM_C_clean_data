{
 "cells": [
  {
   "cell_type": "code",
   "execution_count": null,
   "metadata": {},
   "outputs": [],
   "source": [
    "#-*- coding: utf-8 -*-\n",
    "from __future__ import print_function\n",
    "import pandas as pd\n",
    "# from apriori import *  # 导入自行编写的apriori函数\n",
    "import time  # 导入时间库用来计算用时'\n",
    "data=[]\n",
    "for _ in range(7):\n",
    "    inputfile = ''  # 输入事务集文件\n",
    "    data = pd.read_excel(inputfile, header=None, dtype=object,sheetname='Data' )\n",
    "    data\n"
   ]
  }
 ],
 "metadata": {
  "kernelspec": {
   "display_name": "Python 3",
   "language": "python",
   "name": "python3"
  },
  "language_info": {
   "codemirror_mode": {
    "name": "ipython",
    "version": 3
   },
   "file_extension": ".py",
   "mimetype": "text/x-python",
   "name": "python",
   "nbconvert_exporter": "python",
   "pygments_lexer": "ipython3",
   "version": "3.6.8"
  }
 },
 "nbformat": 4,
 "nbformat_minor": 2
}
